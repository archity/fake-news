{
 "cells": [
  {
   "cell_type": "markdown",
   "source": [
    "# Exploratory Data Analysis\n",
    "\n",
    "* Dataset taken from https://github.com/Tariq60/LIAR-PLUS"
   ],
   "metadata": {
    "collapsed": false
   }
  },
  {
   "cell_type": "markdown",
   "source": [
    "## 1. Import Libraries"
   ],
   "metadata": {
    "collapsed": false
   }
  },
  {
   "cell_type": "code",
   "execution_count": 19,
   "metadata": {
    "collapsed": true,
    "pycharm": {
     "name": "#%%\n"
    }
   },
   "outputs": [],
   "source": [
    "import numpy as np\n",
    "import pandas as pd\n",
    "\n",
    "TRAIN_PATH = \"../data/raw/dataset/tsv/train2.tsv\"\n",
    "VAL_PATH = \"../data/raw/dataset/tsv/val2.tsv\"\n",
    "TEST_PATH = \"../data/raw/dataset/tsv/test2.tsv\"\n",
    "\n",
    "columns = [\"id\", \"statement_json\", \"label\", \"statement\", \"subject\", \"speaker\", \"speaker_title\", \"state_info\",\n",
    "           \"party_affiliation\", \"barely_true_count\", \"false_count\", \"half_true_count\", \"mostly_true_count\",\n",
    "           \"pants_fire_count\", \"context\", \"justification\"]\n",
    "\n"
   ]
  },
  {
   "cell_type": "markdown",
   "source": [
    "## 2. Read the dataset"
   ],
   "metadata": {
    "collapsed": false
   }
  },
  {
   "cell_type": "code",
   "execution_count": 13,
   "outputs": [],
   "source": [
    "train_df = pd.read_csv(TRAIN_PATH, sep=\"\\t\", names=columns)\n",
    "val_df = pd.read_csv(VAL_PATH, sep=\"\\t\", names=columns)\n",
    "test_df = pd.read_csv(TEST_PATH, sep=\"\\t\", names=columns)"
   ],
   "metadata": {
    "collapsed": false,
    "pycharm": {
     "name": "#%%\n"
    }
   }
  },
  {
   "cell_type": "code",
   "execution_count": 14,
   "outputs": [
    {
     "name": "stdout",
     "output_type": "stream",
     "text": [
      "Length of train set: 10242\n",
      "Length of validation set: 1284\n",
      "Length of test set: 1267\n"
     ]
    }
   ],
   "source": [
    "print(f\"Length of train set: {len(train_df)}\")\n",
    "print(f\"Length of validation set: {len(val_df)}\")\n",
    "print(f\"Length of test set: {len(test_df)}\")"
   ],
   "metadata": {
    "collapsed": false,
    "pycharm": {
     "name": "#%%\n"
    }
   }
  },
  {
   "cell_type": "code",
   "execution_count": 45,
   "outputs": [
    {
     "data": {
      "text/plain": "    id statement_json        label  \\\n0  0.0      2635.json        false   \n1  1.0     10540.json    half-true   \n2  2.0       324.json  mostly-true   \n3  3.0      1123.json        false   \n4  4.0      9028.json    half-true   \n\n                                           statement  \\\n0  Says the Annies List political group supports ...   \n1  When did the decline of coal start? It started...   \n2  Hillary Clinton agrees with John McCain \"by vo...   \n3  Health care reform legislation is likely to ma...   \n4  The economic turnaround started at the end of ...   \n\n                              subject         speaker         speaker_title  \\\n0                            abortion    dwayne-bohac  State representative   \n1  energy,history,job-accomplishments  scott-surovell        State delegate   \n2                      foreign-policy    barack-obama             President   \n3                         health-care    blog-posting                   NaN   \n4                        economy,jobs   charlie-crist                   NaN   \n\n  state_info party_affiliation  barely_true_count  false_count  \\\n0      Texas        republican                0.0          1.0   \n1   Virginia          democrat                0.0          0.0   \n2   Illinois          democrat               70.0         71.0   \n3        NaN              none                7.0         19.0   \n4    Florida          democrat               15.0          9.0   \n\n   half_true_count  mostly_true_count  pants_fire_count              context  \\\n0              0.0                0.0               0.0             a mailer   \n1              1.0                1.0               0.0      a floor speech.   \n2            160.0              163.0               9.0               Denver   \n3              3.0                5.0              44.0       a news release   \n4             20.0               19.0               2.0  an interview on CNN   \n\n                                       justification  \n0  That's a premise that he fails to back up. Ann...  \n1  Surovell said the decline of coal \"started whe...  \n2  Obama said he would have voted against the ame...  \n3  The release may have a point that Mikulskis co...  \n4  Crist said that the economic \"turnaround start...  ",
      "text/html": "<div>\n<style scoped>\n    .dataframe tbody tr th:only-of-type {\n        vertical-align: middle;\n    }\n\n    .dataframe tbody tr th {\n        vertical-align: top;\n    }\n\n    .dataframe thead th {\n        text-align: right;\n    }\n</style>\n<table border=\"1\" class=\"dataframe\">\n  <thead>\n    <tr style=\"text-align: right;\">\n      <th></th>\n      <th>id</th>\n      <th>statement_json</th>\n      <th>label</th>\n      <th>statement</th>\n      <th>subject</th>\n      <th>speaker</th>\n      <th>speaker_title</th>\n      <th>state_info</th>\n      <th>party_affiliation</th>\n      <th>barely_true_count</th>\n      <th>false_count</th>\n      <th>half_true_count</th>\n      <th>mostly_true_count</th>\n      <th>pants_fire_count</th>\n      <th>context</th>\n      <th>justification</th>\n    </tr>\n  </thead>\n  <tbody>\n    <tr>\n      <th>0</th>\n      <td>0.0</td>\n      <td>2635.json</td>\n      <td>false</td>\n      <td>Says the Annies List political group supports ...</td>\n      <td>abortion</td>\n      <td>dwayne-bohac</td>\n      <td>State representative</td>\n      <td>Texas</td>\n      <td>republican</td>\n      <td>0.0</td>\n      <td>1.0</td>\n      <td>0.0</td>\n      <td>0.0</td>\n      <td>0.0</td>\n      <td>a mailer</td>\n      <td>That's a premise that he fails to back up. Ann...</td>\n    </tr>\n    <tr>\n      <th>1</th>\n      <td>1.0</td>\n      <td>10540.json</td>\n      <td>half-true</td>\n      <td>When did the decline of coal start? It started...</td>\n      <td>energy,history,job-accomplishments</td>\n      <td>scott-surovell</td>\n      <td>State delegate</td>\n      <td>Virginia</td>\n      <td>democrat</td>\n      <td>0.0</td>\n      <td>0.0</td>\n      <td>1.0</td>\n      <td>1.0</td>\n      <td>0.0</td>\n      <td>a floor speech.</td>\n      <td>Surovell said the decline of coal \"started whe...</td>\n    </tr>\n    <tr>\n      <th>2</th>\n      <td>2.0</td>\n      <td>324.json</td>\n      <td>mostly-true</td>\n      <td>Hillary Clinton agrees with John McCain \"by vo...</td>\n      <td>foreign-policy</td>\n      <td>barack-obama</td>\n      <td>President</td>\n      <td>Illinois</td>\n      <td>democrat</td>\n      <td>70.0</td>\n      <td>71.0</td>\n      <td>160.0</td>\n      <td>163.0</td>\n      <td>9.0</td>\n      <td>Denver</td>\n      <td>Obama said he would have voted against the ame...</td>\n    </tr>\n    <tr>\n      <th>3</th>\n      <td>3.0</td>\n      <td>1123.json</td>\n      <td>false</td>\n      <td>Health care reform legislation is likely to ma...</td>\n      <td>health-care</td>\n      <td>blog-posting</td>\n      <td>NaN</td>\n      <td>NaN</td>\n      <td>none</td>\n      <td>7.0</td>\n      <td>19.0</td>\n      <td>3.0</td>\n      <td>5.0</td>\n      <td>44.0</td>\n      <td>a news release</td>\n      <td>The release may have a point that Mikulskis co...</td>\n    </tr>\n    <tr>\n      <th>4</th>\n      <td>4.0</td>\n      <td>9028.json</td>\n      <td>half-true</td>\n      <td>The economic turnaround started at the end of ...</td>\n      <td>economy,jobs</td>\n      <td>charlie-crist</td>\n      <td>NaN</td>\n      <td>Florida</td>\n      <td>democrat</td>\n      <td>15.0</td>\n      <td>9.0</td>\n      <td>20.0</td>\n      <td>19.0</td>\n      <td>2.0</td>\n      <td>an interview on CNN</td>\n      <td>Crist said that the economic \"turnaround start...</td>\n    </tr>\n  </tbody>\n</table>\n</div>"
     },
     "execution_count": 45,
     "metadata": {},
     "output_type": "execute_result"
    }
   ],
   "source": [
    "train_df.head()"
   ],
   "metadata": {
    "collapsed": false,
    "pycharm": {
     "name": "#%%\n"
    }
   }
  },
  {
   "cell_type": "markdown",
   "source": [
    "## 3. Data Cleaning"
   ],
   "metadata": {
    "collapsed": false
   }
  },
  {
   "cell_type": "markdown",
   "source": [
    "* Some of the most important coloumns are \"label\", \"statement\".\n",
    "* Now we should check if any of them have null values."
   ],
   "metadata": {
    "collapsed": false,
    "pycharm": {
     "name": "#%% md\n"
    }
   }
  },
  {
   "cell_type": "code",
   "execution_count": 33,
   "outputs": [
    {
     "name": "stdout",
     "output_type": "stream",
     "text": [
      "Do we have empty strings in `label`?\n"
     ]
    },
    {
     "data": {
      "text/plain": "False    10240\nTrue         2\nName: label, dtype: int64"
     },
     "execution_count": 33,
     "metadata": {},
     "output_type": "execute_result"
    }
   ],
   "source": [
    "print(\"Do we have empty strings in `label`?\")\n",
    "pd.isna(train_df[\"label\"]).value_counts()"
   ],
   "metadata": {
    "collapsed": false,
    "pycharm": {
     "name": "#%%\n"
    }
   }
  },
  {
   "cell_type": "markdown",
   "source": [
    "* 2 entries without any label\n",
    "* What exactly are those 2 entries?"
   ],
   "metadata": {
    "collapsed": false,
    "pycharm": {
     "name": "#%% md\n"
    }
   }
  },
  {
   "cell_type": "code",
   "source": [
    "train_df.loc[pd.isna(train_df[\"label\"]), :].index"
   ],
   "metadata": {
    "collapsed": false,
    "pycharm": {
     "name": "#%%\n"
    }
   },
   "execution_count": 36,
   "outputs": [
    {
     "data": {
      "text/plain": "Int64Index([2143, 9377], dtype='int64')"
     },
     "execution_count": 36,
     "metadata": {},
     "output_type": "execute_result"
    }
   ]
  },
  {
   "cell_type": "code",
   "execution_count": 42,
   "outputs": [
    {
     "data": {
      "text/plain": "      id statement_json label statement subject speaker speaker_title  \\\n2143 NaN            NaN   NaN       NaN     NaN     NaN           NaN   \n\n     state_info party_affiliation  barely_true_count  false_count  \\\n2143        NaN               NaN                NaN          NaN   \n\n      half_true_count  mostly_true_count  pants_fire_count context  \\\n2143              NaN                NaN               NaN     NaN   \n\n     justification  \n2143           NaN  ",
      "text/html": "<div>\n<style scoped>\n    .dataframe tbody tr th:only-of-type {\n        vertical-align: middle;\n    }\n\n    .dataframe tbody tr th {\n        vertical-align: top;\n    }\n\n    .dataframe thead th {\n        text-align: right;\n    }\n</style>\n<table border=\"1\" class=\"dataframe\">\n  <thead>\n    <tr style=\"text-align: right;\">\n      <th></th>\n      <th>id</th>\n      <th>statement_json</th>\n      <th>label</th>\n      <th>statement</th>\n      <th>subject</th>\n      <th>speaker</th>\n      <th>speaker_title</th>\n      <th>state_info</th>\n      <th>party_affiliation</th>\n      <th>barely_true_count</th>\n      <th>false_count</th>\n      <th>half_true_count</th>\n      <th>mostly_true_count</th>\n      <th>pants_fire_count</th>\n      <th>context</th>\n      <th>justification</th>\n    </tr>\n  </thead>\n  <tbody>\n    <tr>\n      <th>2143</th>\n      <td>NaN</td>\n      <td>NaN</td>\n      <td>NaN</td>\n      <td>NaN</td>\n      <td>NaN</td>\n      <td>NaN</td>\n      <td>NaN</td>\n      <td>NaN</td>\n      <td>NaN</td>\n      <td>NaN</td>\n      <td>NaN</td>\n      <td>NaN</td>\n      <td>NaN</td>\n      <td>NaN</td>\n      <td>NaN</td>\n      <td>NaN</td>\n    </tr>\n  </tbody>\n</table>\n</div>"
     },
     "execution_count": 42,
     "metadata": {},
     "output_type": "execute_result"
    }
   ],
   "source": [
    "train_df.loc[[2143]]\n"
   ],
   "metadata": {
    "collapsed": false,
    "pycharm": {
     "name": "#%%\n"
    }
   }
  },
  {
   "cell_type": "code",
   "execution_count": 43,
   "outputs": [
    {
     "data": {
      "text/plain": "      id statement_json label statement subject speaker speaker_title  \\\n9377 NaN            NaN   NaN       NaN     NaN     NaN           NaN   \n\n     state_info party_affiliation  barely_true_count  false_count  \\\n9377        NaN               NaN                NaN          NaN   \n\n      half_true_count  mostly_true_count  pants_fire_count context  \\\n9377              NaN                NaN               NaN     NaN   \n\n     justification  \n9377           NaN  ",
      "text/html": "<div>\n<style scoped>\n    .dataframe tbody tr th:only-of-type {\n        vertical-align: middle;\n    }\n\n    .dataframe tbody tr th {\n        vertical-align: top;\n    }\n\n    .dataframe thead th {\n        text-align: right;\n    }\n</style>\n<table border=\"1\" class=\"dataframe\">\n  <thead>\n    <tr style=\"text-align: right;\">\n      <th></th>\n      <th>id</th>\n      <th>statement_json</th>\n      <th>label</th>\n      <th>statement</th>\n      <th>subject</th>\n      <th>speaker</th>\n      <th>speaker_title</th>\n      <th>state_info</th>\n      <th>party_affiliation</th>\n      <th>barely_true_count</th>\n      <th>false_count</th>\n      <th>half_true_count</th>\n      <th>mostly_true_count</th>\n      <th>pants_fire_count</th>\n      <th>context</th>\n      <th>justification</th>\n    </tr>\n  </thead>\n  <tbody>\n    <tr>\n      <th>9377</th>\n      <td>NaN</td>\n      <td>NaN</td>\n      <td>NaN</td>\n      <td>NaN</td>\n      <td>NaN</td>\n      <td>NaN</td>\n      <td>NaN</td>\n      <td>NaN</td>\n      <td>NaN</td>\n      <td>NaN</td>\n      <td>NaN</td>\n      <td>NaN</td>\n      <td>NaN</td>\n      <td>NaN</td>\n      <td>NaN</td>\n      <td>NaN</td>\n    </tr>\n  </tbody>\n</table>\n</div>"
     },
     "execution_count": 43,
     "metadata": {},
     "output_type": "execute_result"
    }
   ],
   "source": [
    "train_df.loc[[9377]]"
   ],
   "metadata": {
    "collapsed": false,
    "pycharm": {
     "name": "#%%\n"
    }
   }
  },
  {
   "cell_type": "markdown",
   "source": [
    "* All the coloumns of those 2 entries are blank\n",
    "* Drop those 2 entries"
   ],
   "metadata": {
    "collapsed": false,
    "pycharm": {
     "name": "#%% md\n"
    }
   }
  },
  {
   "cell_type": "code",
   "execution_count": 44,
   "outputs": [
    {
     "data": {
      "text/plain": "10240"
     },
     "execution_count": 44,
     "metadata": {},
     "output_type": "execute_result"
    }
   ],
   "source": [
    "train_df.dropna(subset=[\"label\"], inplace=True)\n",
    "len(train_df)"
   ],
   "metadata": {
    "collapsed": false,
    "pycharm": {
     "name": "#%%\n"
    }
   }
  },
  {
   "cell_type": "code",
   "execution_count": null,
   "outputs": [],
   "source": [],
   "metadata": {
    "collapsed": false,
    "pycharm": {
     "name": "#%%\n"
    }
   }
  }
 ],
 "metadata": {
  "kernelspec": {
   "display_name": "Python 3",
   "language": "python",
   "name": "python3"
  },
  "language_info": {
   "codemirror_mode": {
    "name": "ipython",
    "version": 2
   },
   "file_extension": ".py",
   "mimetype": "text/x-python",
   "name": "python",
   "nbconvert_exporter": "python",
   "pygments_lexer": "ipython2",
   "version": "2.7.6"
  }
 },
 "nbformat": 4,
 "nbformat_minor": 0
}